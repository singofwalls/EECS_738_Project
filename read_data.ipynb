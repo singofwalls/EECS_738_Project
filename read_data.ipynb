{
 "cells": [
  {
   "cell_type": "markdown",
   "metadata": {},
   "source": [
    "### Average grid cells, and save each day to a JSON"
   ]
  },
  {
   "cell_type": "code",
   "execution_count": null,
   "metadata": {},
   "outputs": [],
   "source": [
    "import netCDF4 as nc\n",
    "import numpy as np\n",
    "\n",
    "from alive_progress import alive_it\n",
    "\n",
    "from pathlib import Path\n",
    "from collections import defaultdict\n",
    "\n",
    "data_dir = Path(r\"C:\\Users\\mathe\\Documents\\Globus Downloads\")"
   ]
  },
  {
   "cell_type": "code",
   "execution_count": null,
   "metadata": {},
   "outputs": [],
   "source": [
    "\n",
    "var_names = {\"sea-ice\": \"siconc\", \"atmos-near-surface-air-temp\": \"tas\"}\n",
    "\n",
    "vars = defaultdict(lambda: dict())\n",
    "total_dirs = len([x for x in data_dir.iterdir() if x.is_dir()])\n",
    "for var_dir in data_dir.iterdir():\n",
    "    if not var_dir.is_dir():\n",
    "        continue\n",
    "    \n",
    "    var_name = var_dir.name\n",
    "    total_files = len(list(var_dir.iterdir()))\n",
    "\n",
    "    file_bar = alive_it(var_dir.iterdir(), force_tty=True, total=total_files)\n",
    "    for var_file in file_bar:\n",
    "        ds = nc.Dataset(var_file)\n",
    "        days = [int(x) for x in ds.variables[\"time\"]]\n",
    "        means = [np.mean(x) for x in ds.variables[var_names[var_name]]]\n",
    "        for i, day in enumerate(days):\n",
    "            vars[day][var_name] = means[i]\n",
    "\n"
   ]
  },
  {
   "cell_type": "code",
   "execution_count": null,
   "metadata": {},
   "outputs": [],
   "source": [
    "import json\n",
    "\n",
    "class Encoder(json.JSONEncoder):\n",
    "    def default(self, obj):\n",
    "        if type(obj) == np.float32:\n",
    "            return int(obj)\n",
    "        # Let the base class default method raise the TypeError\n",
    "        return json.JSONEncoder.default(self, obj)\n",
    "\n",
    "\n",
    "with open(\"vars.json\", \"w\") as f:\n",
    "    json.dump(vars, f, cls=Encoder)"
   ]
  },
  {
   "cell_type": "code",
   "execution_count": null,
   "metadata": {},
   "outputs": [],
   "source": [
    "# Convert json to CSV\n",
    "import csv\n",
    "\n",
    "with open(\"vars.json\") as in_file:\n",
    "    json_file = json.load(in_file)\n",
    "    with open(\"vars.csv\", \"w\") as out_file:\n",
    "        csv_file = csv.writer(out_file)\n",
    "        days = json_file.keys()\n",
    "        vars = set()\n",
    "        for day in days:\n",
    "            vars |= set(json_file[day].keys())\n",
    "        csv_file.writerow((\"Day\", *vars))\n",
    "        for day in days:\n",
    "            row = [str(day), \"\", \"\"]\n",
    "            for i, var in enumerate(vars):\n",
    "                if var in json_file[day]:\n",
    "                    row[i+1] = json_file[day][var]\n",
    "            csv_file.writerow(row)"
   ]
  },
  {
   "cell_type": "markdown",
   "metadata": {},
   "source": [
    "# Plot all points of a file on a map to guage the extent of the area covered"
   ]
  },
  {
   "cell_type": "code",
   "execution_count": null,
   "metadata": {},
   "outputs": [],
   "source": [
    "FILE_NUM = 0\n",
    "\n",
    "records = defaultdict(lambda: dict())\n",
    "var_dir = data_dir / 'atmos-near-surface-air-temp'\n",
    "\n",
    "vars = nc.Dataset(list(var_dir.iterdir())[FILE_NUM]).variables\n",
    "days = [int(x) for x in vars[\"time\"][0:10]]\n",
    "means = [np.mean(x) for x in vars[\"tas\"][0:10]]\n",
    "for i, day in enumerate(days):\n",
    "    records[day][\"atmos-near-surface-air-temp\"] = means[i]\n",
    "\n",
    "var_dir = data_dir / 'sea-ice'\n",
    "vars = nc.Dataset(list(var_dir.iterdir())[FILE_NUM]).variables\n",
    "days = [int(x) for x in vars[\"time\"][0:10]]\n",
    "means = [np.mean(x) for x in vars[\"siconc\"][0:10]]\n",
    "for i, day in enumerate(days):\n",
    "    records[day][\"sea-ice\"] = means[day]\n",
    "\n",
    "print(records.keys())\n",
    "\n"
   ]
  },
  {
   "cell_type": "code",
   "execution_count": null,
   "metadata": {},
   "outputs": [],
   "source": [
    "vars[\"time\"][0:10]"
   ]
  },
  {
   "cell_type": "code",
   "execution_count": null,
   "metadata": {},
   "outputs": [],
   "source": [
    "import pandas as pd\n",
    "from shapely.geometry import Point\n",
    "import geopandas as gpd\n",
    "from geopandas import GeoDataFrame\n",
    "\n",
    "from itertools import product\n",
    "\n",
    "FILE_NUM = 0\n",
    "\n",
    "records = defaultdict(lambda: dict())\n",
    "var_dir = data_dir / 'atmos-near-surface-air-temp'\n",
    "\n",
    "points = [Point(xy) for xy in zip(vars[\"longitude\"], vars[\"latitude\"])]\n",
    "gdf = GeoDataFrame(None, geometry=points)\n",
    "world = gpd.read_file(gpd.datasets.get_path('naturalearth_lowres'))\n",
    "gdf.plot(ax=world.plot(figsize=(10, 6)), marker='o', color='red', markersize=1);"
   ]
  }
 ],
 "metadata": {
  "interpreter": {
   "hash": "81a6dc1246209308a911193967922c67d378c3e6826fb6f54760527125705fbb"
  },
  "kernelspec": {
   "display_name": "Python 3.9.0 ('.venv': venv)",
   "language": "python",
   "name": "python3"
  },
  "language_info": {
   "codemirror_mode": {
    "name": "ipython",
    "version": 3
   },
   "file_extension": ".py",
   "mimetype": "text/x-python",
   "name": "python",
   "nbconvert_exporter": "python",
   "pygments_lexer": "ipython3",
   "version": "3.9.0"
  },
  "orig_nbformat": 4
 },
 "nbformat": 4,
 "nbformat_minor": 2
}
