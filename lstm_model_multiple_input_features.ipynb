{
 "cells": [
  {
   "cell_type": "code",
   "execution_count": 23,
   "metadata": {},
   "outputs": [],
   "source": [
    "# Data wrangling\n",
    "import pandas as pd \n",
    "\n",
    "# Visualization\n",
    "import matplotlib.pyplot as plt\n",
    "\n",
    "# Math operations\n",
    "import numpy as np\n",
    "\n",
    "# Keras API \n",
    "from tensorflow import keras\n",
    "\n",
    "# Deep learning \n",
    "from keras.models import Input, Model, Sequential\n",
    "from keras.layers import Dense, Dropout, LSTM, Concatenate, SimpleRNN, Masking, Flatten\n",
    "from keras import losses\n",
    "from keras.callbacks import EarlyStopping\n",
    "from keras.initializers import RandomNormal"
   ]
  },
  {
   "cell_type": "code",
   "execution_count": 25,
   "metadata": {},
   "outputs": [],
   "source": [
    "def create_X_Y(ts: np.array, lag=1, target_index=0) -> tuple:\n",
    "    \"\"\"\n",
    "    A method to create X and Y matrix from a time series array for the training of \n",
    "    deep learning models \n",
    "    \"\"\"\n",
    "    # Extracting the number of features that are passed from the array \n",
    "    n_features = ts.shape[1]\n",
    "    \n",
    "    # Creating placeholder lists\n",
    "    X, Y = [], []\n",
    "\n",
    "    if len(ts) - lag <= 0:\n",
    "        X.append(ts)\n",
    "    else:\n",
    "        for i in range(len(ts) - lag - 1):\n",
    "            Y.append(ts[i + lag, target_index])\n",
    "            X.append(ts[i:(i + lag)])\n",
    "\n",
    "    X, Y = np.array(X), np.array(Y)\n",
    "\n",
    "    # Reshaping the X array to an RNN input shape \n",
    "    X = np.reshape(X, (X.shape[0], lag, n_features))\n",
    "\n",
    "    return X, Y"
   ]
  },
  {
   "cell_type": "code",
   "execution_count": 76,
   "metadata": {},
   "outputs": [],
   "source": [
    "class NNMultistepModel():\n",
    "    \n",
    "    def __init__(\n",
    "        self, \n",
    "        X, \n",
    "        Y, \n",
    "        n_outputs,\n",
    "        n_lag,\n",
    "        n_ft,\n",
    "        n_layer,\n",
    "        batch,\n",
    "        epochs, \n",
    "        lr,\n",
    "        Xval=None,\n",
    "        Yval=None,\n",
    "        mask_value=-999.0,\n",
    "        min_delta=0.001,\n",
    "        patience=5\n",
    "    ):\n",
    "        lstm_input = Input(shape=(n_lag, n_ft))\n",
    "\n",
    "        # Series signal \n",
    "        lstm_layer = LSTM(n_layer, activation='relu')(lstm_input)\n",
    "\n",
    "        self.model = Model(inputs=lstm_input, outputs=[Dense(1)(lstm_layer) for _ in range(n_outputs)])\n",
    "        self.batch = batch \n",
    "        self.epochs = epochs\n",
    "        self.n_layer=n_layer\n",
    "        self.lr = lr \n",
    "        self.Xval = Xval\n",
    "        self.Yval = Yval\n",
    "        self.X = X\n",
    "        self.Y = Y\n",
    "        self.mask_value = mask_value\n",
    "        self.min_delta = min_delta\n",
    "        self.patience = patience\n",
    "\n",
    "    def trainCallback(self):\n",
    "        return EarlyStopping(monitor='loss', patience=self.patience, min_delta=self.min_delta)\n",
    "\n",
    "    def train(self):\n",
    "        # Getting the untrained model \n",
    "        empty_model = self.model\n",
    "        \n",
    "        # Initiating the optimizer\n",
    "        optimizer = keras.optimizers.Adam(learning_rate=self.lr)\n",
    "\n",
    "        # Compiling the model\n",
    "        empty_model.compile(loss=losses.MeanAbsoluteError(), optimizer=optimizer)\n",
    "\n",
    "        if (self.Xval is not None) and (self.Yval is not None):\n",
    "            history = empty_model.fit(\n",
    "                self.X, \n",
    "                self.Y, \n",
    "                epochs=self.epochs, \n",
    "                batch_size=self.batch, \n",
    "                validation_data=(self.Xval, self.Yval), \n",
    "                shuffle=False,\n",
    "                callbacks=[self.trainCallback()]\n",
    "            )\n",
    "        else:\n",
    "            history = empty_model.fit(\n",
    "                self.X, \n",
    "                self.Y, \n",
    "                epochs=self.epochs, \n",
    "                batch_size=self.batch,\n",
    "                shuffle=False,\n",
    "                callbacks=[self.trainCallback()]\n",
    "            )\n",
    "        \n",
    "        # Saving to original model attribute in the class\n",
    "        self.model = empty_model\n",
    "        \n",
    "        # Returning the training history\n",
    "        return history\n",
    "    \n",
    "    def predict(self, X):\n",
    "        return self.model.predict(X)\n",
    "    "
   ]
  },
  {
   "cell_type": "code",
   "execution_count": 77,
   "metadata": {},
   "outputs": [],
   "source": [
    "df = pd.read_csv('values_normalized.csv')\n",
    "df = df.dropna()\n",
    "ts = df[[\n",
    "'huss', \n",
    "'f107', \n",
    "'siconc', \n",
    "'kp', \n",
    "'ap', \n",
    "'iprp', \n",
    "'ssn',\n",
    "'tsi',\n",
    "'scnum',\n",
    "'iprm',\n",
    "'iprg',\n",
    "'scph',\n",
    "'tas'\n",
    "]].values\n",
    "# Number of lags (hours back) to use for models\n",
    "lag = 200\n",
    "\n",
    "# ts = np.array([[float(str(x) + f\".{i}1\") for x in range(-1, -13, -1)] + [i] for i in range(20819)])\n",
    "X, Y = create_X_Y(ts, lag=lag, target_index=slice(0, 13))\n",
    "## X[32][20] == X[52][0]\n",
    "## X[32][20] == X[51][1]\n",
    "## X[32][1] == X[33][0]\n",
    "## X[sample][following sample (up to lag)][feature]\n",
    "## Y[sample][feature]\n",
    "n_ft = X.shape[2]"
   ]
  },
  {
   "cell_type": "code",
   "execution_count": 78,
   "metadata": {},
   "outputs": [],
   "source": [
    "# Share of obs in testing \n",
    "test_share = 0.15\n",
    "# Epochs for training\n",
    "epochs = 10\n",
    "# Batch size \n",
    "batch_size = 256\n",
    "# Learning rate\n",
    "lr = 0.001\n",
    "# Number of neurons in LSTM layer\n",
    "n_layer = 10"
   ]
  },
  {
   "cell_type": "code",
   "execution_count": 79,
   "metadata": {},
   "outputs": [],
   "source": [
    "# Spliting into train and test sets \n",
    "Xtrain, Ytrain = X[0:int(X.shape[0] * (1 - test_share))], Y[0:int(X.shape[0] * (1 - test_share))]\n",
    "Xval, Yval = X[int(X.shape[0] * (1 - test_share)):], Y[int(X.shape[0] * (1 - test_share)):]"
   ]
  },
  {
   "cell_type": "code",
   "execution_count": 84,
   "metadata": {},
   "outputs": [
    {
     "name": "stdout",
     "output_type": "stream",
     "text": [
      "Epoch 1/10\n",
      "69/69 [==============================] - 8s 68ms/step - loss: 4.1884 - dense_73_loss: 0.3658 - dense_74_loss: 0.2706 - dense_75_loss: 0.2499 - dense_76_loss: 0.3471 - dense_77_loss: 0.2414 - dense_78_loss: 0.2624 - dense_79_loss: 0.5426 - dense_80_loss: 0.2861 - dense_81_loss: 0.2779 - dense_82_loss: 0.4114 - dense_83_loss: 0.3031 - dense_84_loss: 0.3217 - dense_85_loss: 0.3086 - val_loss: 4.1685 - val_dense_73_loss: 0.3056 - val_dense_74_loss: 0.2934 - val_dense_75_loss: 0.2917 - val_dense_76_loss: 0.2900 - val_dense_77_loss: 0.2856 - val_dense_78_loss: 0.2996 - val_dense_79_loss: 0.5369 - val_dense_80_loss: 0.2893 - val_dense_81_loss: 0.2959 - val_dense_82_loss: 0.3686 - val_dense_83_loss: 0.3207 - val_dense_84_loss: 0.3009 - val_dense_85_loss: 0.2904\n",
      "Epoch 2/10\n",
      "69/69 [==============================] - 4s 57ms/step - loss: 3.4835 - dense_73_loss: 0.2597 - dense_74_loss: 0.2461 - dense_75_loss: 0.2423 - dense_76_loss: 0.2405 - dense_77_loss: 0.2396 - dense_78_loss: 0.2466 - dense_79_loss: 0.4714 - dense_80_loss: 0.2498 - dense_81_loss: 0.2460 - dense_82_loss: 0.2779 - dense_83_loss: 0.2629 - dense_84_loss: 0.2544 - dense_85_loss: 0.2462 - val_loss: 3.8969 - val_dense_73_loss: 0.2914 - val_dense_74_loss: 0.2957 - val_dense_75_loss: 0.2834 - val_dense_76_loss: 0.2830 - val_dense_77_loss: 0.2826 - val_dense_78_loss: 0.2929 - val_dense_79_loss: 0.3956 - val_dense_80_loss: 0.2877 - val_dense_81_loss: 0.2902 - val_dense_82_loss: 0.3167 - val_dense_83_loss: 0.2957 - val_dense_84_loss: 0.2945 - val_dense_85_loss: 0.2876\n",
      "Epoch 3/10\n",
      "69/69 [==============================] - 4s 55ms/step - loss: 3.2814 - dense_73_loss: 0.2468 - dense_74_loss: 0.2441 - dense_75_loss: 0.2410 - dense_76_loss: 0.2371 - dense_77_loss: 0.2385 - dense_78_loss: 0.2401 - dense_79_loss: 0.3570 - dense_80_loss: 0.2439 - dense_81_loss: 0.2416 - dense_82_loss: 0.2580 - dense_83_loss: 0.2445 - dense_84_loss: 0.2471 - dense_85_loss: 0.2417 - val_loss: 3.7895 - val_dense_73_loss: 0.2865 - val_dense_74_loss: 0.2949 - val_dense_75_loss: 0.2813 - val_dense_76_loss: 0.2806 - val_dense_77_loss: 0.2811 - val_dense_78_loss: 0.2870 - val_dense_79_loss: 0.3328 - val_dense_80_loss: 0.2891 - val_dense_81_loss: 0.2884 - val_dense_82_loss: 0.3034 - val_dense_83_loss: 0.2858 - val_dense_84_loss: 0.2922 - val_dense_85_loss: 0.2865\n",
      "Epoch 4/10\n",
      "69/69 [==============================] - 4s 56ms/step - loss: 3.1764 - dense_73_loss: 0.2410 - dense_74_loss: 0.2423 - dense_75_loss: 0.2390 - dense_76_loss: 0.2369 - dense_77_loss: 0.2377 - dense_78_loss: 0.2374 - dense_79_loss: 0.2914 - dense_80_loss: 0.2419 - dense_81_loss: 0.2398 - dense_82_loss: 0.2474 - dense_83_loss: 0.2404 - dense_84_loss: 0.2426 - dense_85_loss: 0.2387 - val_loss: 3.7616 - val_dense_73_loss: 0.2860 - val_dense_74_loss: 0.2917 - val_dense_75_loss: 0.2809 - val_dense_76_loss: 0.2829 - val_dense_77_loss: 0.2866 - val_dense_78_loss: 0.2881 - val_dense_79_loss: 0.3030 - val_dense_80_loss: 0.2890 - val_dense_81_loss: 0.2856 - val_dense_82_loss: 0.2974 - val_dense_83_loss: 0.2862 - val_dense_84_loss: 0.3001 - val_dense_85_loss: 0.2841\n",
      "Epoch 5/10\n",
      "69/69 [==============================] - 4s 55ms/step - loss: 3.1227 - dense_73_loss: 0.2388 - dense_74_loss: 0.2408 - dense_75_loss: 0.2376 - dense_76_loss: 0.2362 - dense_77_loss: 0.2376 - dense_78_loss: 0.2369 - dense_79_loss: 0.2554 - dense_80_loss: 0.2403 - dense_81_loss: 0.2385 - dense_82_loss: 0.2431 - dense_83_loss: 0.2390 - dense_84_loss: 0.2404 - dense_85_loss: 0.2381 - val_loss: 3.7313 - val_dense_73_loss: 0.2862 - val_dense_74_loss: 0.2887 - val_dense_75_loss: 0.2814 - val_dense_76_loss: 0.2818 - val_dense_77_loss: 0.2842 - val_dense_78_loss: 0.2844 - val_dense_79_loss: 0.2980 - val_dense_80_loss: 0.2876 - val_dense_81_loss: 0.2848 - val_dense_82_loss: 0.2936 - val_dense_83_loss: 0.2833 - val_dense_84_loss: 0.2920 - val_dense_85_loss: 0.2852\n",
      "Epoch 6/10\n",
      "69/69 [==============================] - 4s 56ms/step - loss: 3.1046 - dense_73_loss: 0.2382 - dense_74_loss: 0.2385 - dense_75_loss: 0.2367 - dense_76_loss: 0.2362 - dense_77_loss: 0.2365 - dense_78_loss: 0.2362 - dense_79_loss: 0.2495 - dense_80_loss: 0.2389 - dense_81_loss: 0.2375 - dense_82_loss: 0.2409 - dense_83_loss: 0.2390 - dense_84_loss: 0.2392 - dense_85_loss: 0.2373 - val_loss: 3.7160 - val_dense_73_loss: 0.2856 - val_dense_74_loss: 0.2865 - val_dense_75_loss: 0.2819 - val_dense_76_loss: 0.2820 - val_dense_77_loss: 0.2830 - val_dense_78_loss: 0.2833 - val_dense_79_loss: 0.2956 - val_dense_80_loss: 0.2863 - val_dense_81_loss: 0.2842 - val_dense_82_loss: 0.2904 - val_dense_83_loss: 0.2836 - val_dense_84_loss: 0.2887 - val_dense_85_loss: 0.2848\n",
      "Epoch 7/10\n",
      "69/69 [==============================] - 4s 56ms/step - loss: 3.0960 - dense_73_loss: 0.2378 - dense_74_loss: 0.2377 - dense_75_loss: 0.2365 - dense_76_loss: 0.2362 - dense_77_loss: 0.2361 - dense_78_loss: 0.2358 - dense_79_loss: 0.2473 - dense_80_loss: 0.2381 - dense_81_loss: 0.2369 - dense_82_loss: 0.2397 - dense_83_loss: 0.2385 - dense_84_loss: 0.2385 - dense_85_loss: 0.2370 - val_loss: 3.7079 - val_dense_73_loss: 0.2850 - val_dense_74_loss: 0.2851 - val_dense_75_loss: 0.2817 - val_dense_76_loss: 0.2818 - val_dense_77_loss: 0.2830 - val_dense_78_loss: 0.2832 - val_dense_79_loss: 0.2943 - val_dense_80_loss: 0.2853 - val_dense_81_loss: 0.2838 - val_dense_82_loss: 0.2891 - val_dense_83_loss: 0.2834 - val_dense_84_loss: 0.2879 - val_dense_85_loss: 0.2843\n",
      "Epoch 8/10\n",
      "69/69 [==============================] - 4s 56ms/step - loss: 3.0898 - dense_73_loss: 0.2374 - dense_74_loss: 0.2371 - dense_75_loss: 0.2363 - dense_76_loss: 0.2360 - dense_77_loss: 0.2359 - dense_78_loss: 0.2357 - dense_79_loss: 0.2455 - dense_80_loss: 0.2375 - dense_81_loss: 0.2365 - dense_82_loss: 0.2390 - dense_83_loss: 0.2380 - dense_84_loss: 0.2380 - dense_85_loss: 0.2368 - val_loss: 3.7010 - val_dense_73_loss: 0.2845 - val_dense_74_loss: 0.2845 - val_dense_75_loss: 0.2819 - val_dense_76_loss: 0.2820 - val_dense_77_loss: 0.2828 - val_dense_78_loss: 0.2829 - val_dense_79_loss: 0.2925 - val_dense_80_loss: 0.2846 - val_dense_81_loss: 0.2836 - val_dense_82_loss: 0.2877 - val_dense_83_loss: 0.2836 - val_dense_84_loss: 0.2867 - val_dense_85_loss: 0.2838\n",
      "Epoch 9/10\n",
      "69/69 [==============================] - 4s 55ms/step - loss: 3.0850 - dense_73_loss: 0.2371 - dense_74_loss: 0.2368 - dense_75_loss: 0.2362 - dense_76_loss: 0.2358 - dense_77_loss: 0.2358 - dense_78_loss: 0.2356 - dense_79_loss: 0.2441 - dense_80_loss: 0.2370 - dense_81_loss: 0.2362 - dense_82_loss: 0.2384 - dense_83_loss: 0.2377 - dense_84_loss: 0.2376 - dense_85_loss: 0.2367 - val_loss: 3.6955 - val_dense_73_loss: 0.2841 - val_dense_74_loss: 0.2840 - val_dense_75_loss: 0.2819 - val_dense_76_loss: 0.2820 - val_dense_77_loss: 0.2827 - val_dense_78_loss: 0.2827 - val_dense_79_loss: 0.2910 - val_dense_80_loss: 0.2840 - val_dense_81_loss: 0.2834 - val_dense_82_loss: 0.2868 - val_dense_83_loss: 0.2836 - val_dense_84_loss: 0.2859 - val_dense_85_loss: 0.2835\n",
      "Epoch 10/10\n",
      "69/69 [==============================] - 4s 56ms/step - loss: 3.0811 - dense_73_loss: 0.2368 - dense_74_loss: 0.2366 - dense_75_loss: 0.2360 - dense_76_loss: 0.2357 - dense_77_loss: 0.2357 - dense_78_loss: 0.2356 - dense_79_loss: 0.2430 - dense_80_loss: 0.2367 - dense_81_loss: 0.2360 - dense_82_loss: 0.2379 - dense_83_loss: 0.2373 - dense_84_loss: 0.2373 - dense_85_loss: 0.2365 - val_loss: 3.6909 - val_dense_73_loss: 0.2838 - val_dense_74_loss: 0.2835 - val_dense_75_loss: 0.2818 - val_dense_76_loss: 0.2820 - val_dense_77_loss: 0.2825 - val_dense_78_loss: 0.2825 - val_dense_79_loss: 0.2898 - val_dense_80_loss: 0.2837 - val_dense_81_loss: 0.2831 - val_dense_82_loss: 0.2861 - val_dense_83_loss: 0.2836 - val_dense_84_loss: 0.2853 - val_dense_85_loss: 0.2833\n"
     ]
    }
   ],
   "source": [
    "# Initiating the model object\n",
    "model = NNMultistepModel(\n",
    " X=Xtrain,\n",
    " Y=Ytrain,\n",
    " n_outputs=13,\n",
    " n_lag=lag,\n",
    " n_ft=n_ft,\n",
    " n_layer=n_layer,\n",
    " batch=batch_size,\n",
    " epochs=epochs, \n",
    " lr=lr,\n",
    " Xval=Xval,\n",
    " Yval=Yval,\n",
    ")\n",
    "# Training of the model \n",
    "history = model.train()\n"
   ]
  },
  {
   "cell_type": "code",
   "execution_count": 53,
   "metadata": {},
   "outputs": [],
   "source": [
    "# Comparing the forecasts with the actual values\n",
    "yhat = [x for x in model.predict(Xval)]\n",
    "y = [y[0] for y in Yval]"
   ]
  },
  {
   "cell_type": "code",
   "execution_count": 97,
   "metadata": {},
   "outputs": [
    {
     "name": "stdout",
     "output_type": "stream",
     "text": [
      "0\n",
      "1\n",
      "2\n",
      "3\n",
      "4\n",
      "5\n",
      "6\n",
      "7\n",
      "8\n",
      "9\n",
      "10\n",
      "11\n",
      "12\n",
      "13\n",
      "14\n",
      "15\n",
      "16\n",
      "17\n",
      "18\n",
      "19\n",
      "20\n",
      "21\n",
      "22\n",
      "23\n",
      "24\n",
      "25\n",
      "26\n",
      "27\n",
      "28\n",
      "29\n",
      "30\n",
      "31\n",
      "32\n",
      "33\n",
      "34\n",
      "35\n",
      "36\n",
      "37\n",
      "38\n",
      "39\n",
      "40\n",
      "41\n",
      "42\n",
      "43\n",
      "44\n",
      "45\n",
      "46\n",
      "47\n",
      "48\n",
      "49\n",
      "50\n",
      "51\n",
      "52\n",
      "53\n",
      "54\n",
      "55\n",
      "56\n",
      "57\n",
      "58\n",
      "59\n",
      "60\n",
      "61\n",
      "62\n",
      "63\n",
      "64\n",
      "65\n",
      "66\n",
      "67\n",
      "68\n",
      "69\n",
      "70\n",
      "71\n",
      "72\n",
      "73\n",
      "74\n",
      "75\n",
      "76\n",
      "77\n",
      "78\n",
      "79\n",
      "80\n",
      "81\n",
      "82\n",
      "83\n",
      "84\n",
      "85\n",
      "86\n",
      "87\n",
      "88\n",
      "89\n",
      "90\n",
      "91\n",
      "92\n",
      "93\n",
      "94\n",
      "95\n",
      "96\n",
      "97\n",
      "98\n",
      "99\n",
      "[array([0.40159798], dtype=float32), array([0.3610087], dtype=float32), array([0.35447085], dtype=float32), array([0.35251796], dtype=float32), array([0.35384995], dtype=float32), array([0.3512166], dtype=float32), array([0.3501351], dtype=float32), array([0.34740186], dtype=float32), array([0.3415248], dtype=float32), array([0.337743], dtype=float32), array([0.3355201], dtype=float32), array([0.33626002], dtype=float32), array([0.33861256], dtype=float32), array([0.33741972], dtype=float32), array([0.3321663], dtype=float32), array([0.32832348], dtype=float32), array([0.32590902], dtype=float32), array([0.32517886], dtype=float32), array([0.32452923], dtype=float32), array([0.32382658], dtype=float32), array([0.32135808], dtype=float32), array([0.31699228], dtype=float32), array([0.31537288], dtype=float32), array([0.31479567], dtype=float32), array([0.31447458], dtype=float32), array([0.31567568], dtype=float32), array([0.31618285], dtype=float32), array([0.31300467], dtype=float32), array([0.3098696], dtype=float32), array([0.30786258], dtype=float32), array([0.30733556], dtype=float32), array([0.30691922], dtype=float32), array([0.30670387], dtype=float32), array([0.30518192], dtype=float32), array([0.30157638], dtype=float32), array([0.29995018], dtype=float32), array([0.29946655], dtype=float32), array([0.2990206], dtype=float32), array([0.29988205], dtype=float32), array([0.30054587], dtype=float32), array([0.2984212], dtype=float32), array([0.29604864], dtype=float32), array([0.29442602], dtype=float32), array([0.29384327], dtype=float32), array([0.29355305], dtype=float32), array([0.29371083], dtype=float32), array([0.2929054], dtype=float32), array([0.2900232], dtype=float32), array([0.28849643], dtype=float32), array([0.2880602], dtype=float32), array([0.2875858], dtype=float32), array([0.28815877], dtype=float32), array([0.28887236], dtype=float32), array([0.28753555], dtype=float32), array([0.2857828], dtype=float32), array([0.2844543], dtype=float32), array([0.28391027], dtype=float32), array([0.2837134], dtype=float32), array([0.28405374], dtype=float32), array([0.28373975], dtype=float32), array([0.28154302], dtype=float32), array([0.28020626], dtype=float32), array([0.27981383], dtype=float32), array([0.27936512], dtype=float32), array([0.27974516], dtype=float32), array([0.28042918], dtype=float32), array([0.27964503], dtype=float32), array([0.2783599], dtype=float32), array([0.27728587], dtype=float32), array([0.27682745], dtype=float32), array([0.2766936], dtype=float32), array([0.27710122], dtype=float32), array([0.2771269], dtype=float32), array([0.27551872], dtype=float32), array([0.27439857], dtype=float32), array([0.27405417], dtype=float32), array([0.273667], dtype=float32), array([0.27392173], dtype=float32), array([0.27454615], dtype=float32), array([0.2741508], dtype=float32), array([0.27324423], dtype=float32), array([0.2723783], dtype=float32), array([0.27199453], dtype=float32), array([0.27191693], dtype=float32), array([0.27233714], dtype=float32), array([0.27256042], dtype=float32), array([0.27144012], dtype=float32), array([0.27055335], dtype=float32), array([0.2702602], dtype=float32), array([0.26993382], dtype=float32), array([0.2701103], dtype=float32), array([0.27066875], dtype=float32), array([0.27053487], dtype=float32), array([0.26992092], dtype=float32), array([0.26923576], dtype=float32), array([0.26892826], dtype=float32), array([0.26888716], dtype=float32), array([0.2692821], dtype=float32), array([0.26960853], dtype=float32), array([0.2688902], dtype=float32)]\n"
     ]
    }
   ],
   "source": [
    "# Predict n days ahead\n",
    "n_ahead = 100\n",
    "yhat=[]\n",
    "Xn = Xval[-(lag+n_ahead):-n_ahead, :, :]\n",
    "for i in range(n_ahead):\n",
    "    print(i)\n",
    "    fc = model.predict(Xn)\n",
    "    yhat.append(fc[-1][-1])  # Append next temp to yhat\n",
    "    Xn = np.delete(Xn, slice(0, 1*lag*X.shape[2]))\n",
    "    Xn = np.append(Xn, fc)\n",
    "    Xn = np.reshape(Xn, (lag, lag, X.shape[2]))\n",
    "\n",
    "print(yhat)\n"
   ]
  },
  {
   "cell_type": "code",
   "execution_count": 98,
   "metadata": {},
   "outputs": [
    {
     "data": {
      "image/png": "[encoded data removed]",
      "text/plain": [
       "<Figure size 864x576 with 1 Axes>"
      ]
     },
     "metadata": {
      "needs_background": "light"
     },
     "output_type": "display_data"
    }
   ],
   "source": [
    "fc = df.tail(len(yhat)*2).copy()\n",
    "# fc[\"tas\"] = ts[-n_ahead:, -1]  # for if ts was replaced for testing\n",
    "fc.reset_index(inplace=True)\n",
    "fc['forecast'] = ([np.nan] * len(yhat)) +  yhat\n",
    "plt.figure(figsize=(12, 8))\n",
    "plt.plot(fc['day'], fc['tas'], label='actual')\n",
    "plt.plot(fc['day'], fc['forecast'], label='predicted')\n",
    "plt.xlabel(\"day\")\n",
    "plt.ylabel(\"tas\")\n",
    "plt.title(\"Test dataset performance\")\n",
    "plt.legend()\n",
    "plt.show()"
   ]
  },
  {
   "cell_type": "code",
   "execution_count": 24,
   "metadata": {},
   "outputs": [
    {
     "data": {
      "text/plain": [
       "0.2062842961941877"
      ]
     },
     "execution_count": 24,
     "metadata": {},
     "output_type": "execute_result"
    }
   ],
   "source": [
    "X[-1][-1][-12]"
   ]
  },
  {
   "cell_type": "code",
   "execution_count": 23,
   "metadata": {},
   "outputs": [
    {
     "data": {
      "text/plain": [
       "0.60484385"
      ]
     },
     "execution_count": 23,
     "metadata": {},
     "output_type": "execute_result"
    }
   ],
   "source": [
    "yhat[0]"
   ]
  }
 ],
 "metadata": {
  "interpreter": {
   "hash": "230d5e40bca51e035896cc1e603e8630c8b5966b13b5c366eb7b29b5bd6ae590"
  },
  "kernelspec": {
   "display_name": "Python 3.9.6 64-bit",
   "language": "python",
   "name": "python3"
  },
  "language_info": {
   "codemirror_mode": {
    "name": "ipython",
    "version": 3
   },
   "file_extension": ".py",
   "mimetype": "text/x-python",
   "name": "python",
   "nbconvert_exporter": "python",
   "pygments_lexer": "ipython3",
   "version": "3.9.0"
  },
  "orig_nbformat": 4
 },
 "nbformat": 4,
 "nbformat_minor": 2
}
